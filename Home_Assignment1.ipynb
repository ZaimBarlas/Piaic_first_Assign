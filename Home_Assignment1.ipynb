{
 "cells": [
  {
   "cell_type": "code",
   "execution_count": 8,
   "metadata": {},
   "outputs": [
    {
     "name": "stdout",
     "output_type": "stream",
     "text": [
      "zAim barlas\n",
      "Fasahat Hamid\n"
     ]
    }
   ],
   "source": [
    "name1=\"zAim barlas\"\n",
    "name2=\"Fasahat Hamid\"\n",
    "print(name1,name2,sep='\\n')"
   ]
  },
  {
   "cell_type": "code",
   "execution_count": 4,
   "metadata": {},
   "outputs": [
    {
     "data": {
      "text/plain": [
       "['__add__',\n",
       " '__class__',\n",
       " '__contains__',\n",
       " '__delattr__',\n",
       " '__dir__',\n",
       " '__doc__',\n",
       " '__eq__',\n",
       " '__format__',\n",
       " '__ge__',\n",
       " '__getattribute__',\n",
       " '__getitem__',\n",
       " '__getnewargs__',\n",
       " '__gt__',\n",
       " '__hash__',\n",
       " '__init__',\n",
       " '__init_subclass__',\n",
       " '__iter__',\n",
       " '__le__',\n",
       " '__len__',\n",
       " '__lt__',\n",
       " '__mod__',\n",
       " '__mul__',\n",
       " '__ne__',\n",
       " '__new__',\n",
       " '__reduce__',\n",
       " '__reduce_ex__',\n",
       " '__repr__',\n",
       " '__rmod__',\n",
       " '__rmul__',\n",
       " '__setattr__',\n",
       " '__sizeof__',\n",
       " '__str__',\n",
       " '__subclasshook__',\n",
       " 'capitalize',\n",
       " 'casefold',\n",
       " 'center',\n",
       " 'count',\n",
       " 'encode',\n",
       " 'endswith',\n",
       " 'expandtabs',\n",
       " 'find',\n",
       " 'format',\n",
       " 'format_map',\n",
       " 'index',\n",
       " 'isalnum',\n",
       " 'isalpha',\n",
       " 'isascii',\n",
       " 'isdecimal',\n",
       " 'isdigit',\n",
       " 'isidentifier',\n",
       " 'islower',\n",
       " 'isnumeric',\n",
       " 'isprintable',\n",
       " 'isspace',\n",
       " 'istitle',\n",
       " 'isupper',\n",
       " 'join',\n",
       " 'ljust',\n",
       " 'lower',\n",
       " 'lstrip',\n",
       " 'maketrans',\n",
       " 'partition',\n",
       " 'replace',\n",
       " 'rfind',\n",
       " 'rindex',\n",
       " 'rjust',\n",
       " 'rpartition',\n",
       " 'rsplit',\n",
       " 'rstrip',\n",
       " 'split',\n",
       " 'splitlines',\n",
       " 'startswith',\n",
       " 'strip',\n",
       " 'swapcase',\n",
       " 'title',\n",
       " 'translate',\n",
       " 'upper',\n",
       " 'zfill']"
      ]
     },
     "execution_count": 4,
     "metadata": {},
     "output_type": "execute_result"
    }
   ],
   "source": [
    "#dir\n",
    "dir(name1)"
   ]
  },
  {
   "cell_type": "code",
   "execution_count": 9,
   "metadata": {},
   "outputs": [
    {
     "name": "stdout",
     "output_type": "stream",
     "text": [
      "Zaim barlas\n"
     ]
    }
   ],
   "source": [
    "#------Captilize------\n",
    "print(name1.capitalize())\n",
    "\n"
   ]
  },
  {
   "cell_type": "code",
   "execution_count": 10,
   "metadata": {},
   "outputs": [
    {
     "name": "stdout",
     "output_type": "stream",
     "text": [
      "zaim barlas\n"
     ]
    }
   ],
   "source": [
    "#--------Casefold-----------\n",
    "print(name1.casefold())"
   ]
  },
  {
   "cell_type": "code",
   "execution_count": 25,
   "metadata": {},
   "outputs": [
    {
     "name": "stdout",
     "output_type": "stream",
     "text": [
      "****this is string example....wow!!!****\n"
     ]
    }
   ],
   "source": [
    "#--------------center----------------\n",
    "str = \"this is string example....wow!!!\"\n",
    "print (str.center(40,'*'))"
   ]
  },
  {
   "cell_type": "code",
   "execution_count": 27,
   "metadata": {},
   "outputs": [
    {
     "name": "stdout",
     "output_type": "stream",
     "text": [
      "2\n"
     ]
    }
   ],
   "source": [
    "#------------count--------\n",
    "str=\"i love pakistan and i live in pakistan\"\n",
    "print(str.count(\"pakistan\"))"
   ]
  },
  {
   "cell_type": "code",
   "execution_count": 29,
   "metadata": {},
   "outputs": [
    {
     "name": "stdout",
     "output_type": "stream",
     "text": [
      "b'i love pakistan and i live in pakistan'\n"
     ]
    }
   ],
   "source": [
    "#------------encode---------------\n",
    "str=\"i love pakistan and i live in pakistan\"\n",
    "print(str.encode())"
   ]
  },
  {
   "cell_type": "code",
   "execution_count": 33,
   "metadata": {},
   "outputs": [
    {
     "name": "stdout",
     "output_type": "stream",
     "text": [
      "True\n"
     ]
    }
   ],
   "source": [
    "#----------endswith--------------\n",
    "str=\"i love pakistan and i live in pakistan\"\n",
    "print(str.endswith('in pakistan'))"
   ]
  },
  {
   "cell_type": "code",
   "execution_count": 54,
   "metadata": {},
   "outputs": [
    {
     "name": "stdout",
     "output_type": "stream",
     "text": [
      "i       love    pakistan        and     i       live    in      pakistan\n"
     ]
    }
   ],
   "source": [
    "#--------expandtabs------------\n",
    "str=\"i\\tlove\\tpakistan\\tand\\ti\\tlive\\tin\\tpakistan\"\n",
    "print(str.expandtabs())"
   ]
  },
  {
   "cell_type": "code",
   "execution_count": 59,
   "metadata": {},
   "outputs": [
    {
     "name": "stdout",
     "output_type": "stream",
     "text": [
      "7\n"
     ]
    }
   ],
   "source": [
    "#-------------find---------\n",
    "str=\"i love pakistan and i live in pakistan\"\n",
    "print(str.find('pakistan'))"
   ]
  },
  {
   "cell_type": "code",
   "execution_count": 63,
   "metadata": {},
   "outputs": [
    {
     "name": "stdout",
     "output_type": "stream",
     "text": [
      "i love pakistan and i live in pakistan\n"
     ]
    }
   ],
   "source": [
    "#-------------find---------\n",
    "str=\"i love pakistan and i live in pakistan\"\n",
    "print(str.format(18))"
   ]
  },
  {
   "cell_type": "code",
   "execution_count": 1,
   "metadata": {},
   "outputs": [
    {
     "name": "stdout",
     "output_type": "stream",
     "text": [
      "This article is written in Python\n"
     ]
    }
   ],
   "source": [
    "#---------format---------------\n",
    "str = \"This article is written in {}\"\n",
    "print (str.format(\"Python\")) "
   ]
  },
  {
   "cell_type": "code",
   "execution_count": 2,
   "metadata": {},
   "outputs": [
    {
     "name": "stdout",
     "output_type": "stream",
     "text": [
      "John's last name is Wick\n"
     ]
    }
   ],
   "source": [
    "#---------format_map-----------\n",
    "# input stored in variable a. \n",
    "a = {'x':'John', 'y':'Wick'} \n",
    "  \n",
    "# Use of format_map() function \n",
    "print(\"{x}'s last name is {y}\".format_map(a)) "
   ]
  },
  {
   "cell_type": "code",
   "execution_count": 5,
   "metadata": {},
   "outputs": [
    {
     "name": "stdout",
     "output_type": "stream",
     "text": [
      "Substring 'is fun': 19\n"
     ]
    }
   ],
   "source": [
    "#-------------index------------\n",
    "sentence = (\"Python programming is fun.\")\n",
    "\n",
    "result = sentence.index('is fun')\n",
    "print(\"Substring 'is fun':\", result)\n"
   ]
  },
  {
   "cell_type": "code",
   "execution_count": 10,
   "metadata": {},
   "outputs": [
    {
     "name": "stdout",
     "output_type": "stream",
     "text": [
      "True\n",
      "False\n",
      "True\n",
      "True\n"
     ]
    }
   ],
   "source": [
    "#-----------isalnum-------------\n",
    "name = \"M234onica\"\n",
    "print(name.isalnum())\n",
    "\n",
    "# contains whitespace\n",
    "name = \"M3onica Gell22er\"\n",
    "print(name.isalnum())\n",
    "\n",
    "name = \"Mo3nicaGell22er\"\n",
    "print(name.isalnum())\n",
    "\n",
    "name = \"133\"\n",
    "print(name.isalnum())"
   ]
  },
  {
   "cell_type": "code",
   "execution_count": 12,
   "metadata": {},
   "outputs": [
    {
     "name": "stdout",
     "output_type": "stream",
     "text": [
      "True\n",
      "False\n",
      "False\n"
     ]
    }
   ],
   "source": [
    "#-----------isalpha------------\n",
    "string = 'zaim'\n",
    "print(string.isalpha()) \n",
    "   \n",
    "  \n",
    "string = 'zaeem0212'\n",
    "print(string.isalpha()) \n",
    "   \n",
    "# checking if space is an alphabet \n",
    "string = 'zaim barlas'\n",
    "print( string.isalpha()) "
   ]
  },
  {
   "cell_type": "code",
   "execution_count": 13,
   "metadata": {},
   "outputs": [
    {
     "name": "stdout",
     "output_type": "stream",
     "text": [
      "True\n",
      "True\n",
      "True\n",
      "True\n",
      "False\n",
      "False\n"
     ]
    }
   ],
   "source": [
    "#----------isascii------------\n",
    "my_string = '  '\n",
    "print(my_string.isascii())\n",
    "\n",
    "my_string = 'Studytonight'\n",
    "print(my_string.isascii())\n",
    "\n",
    "my_string = 'Study tonight'\n",
    "print(my_string.isascii())\n",
    "\n",
    "my_string = 'Studytonight@123'\n",
    "print(my_string.isascii())\n",
    "\n",
    "my_string = '°'\n",
    "print(my_string.isascii())\n",
    "\n",
    "my_string = 'ö'\n",
    "print(my_string.isascii())"
   ]
  },
  {
   "cell_type": "code",
   "execution_count": 16,
   "metadata": {},
   "outputs": [
    {
     "name": "stdout",
     "output_type": "stream",
     "text": [
      "True\n",
      "False\n",
      "False\n"
     ]
    }
   ],
   "source": [
    "#----------isdecimal----------\n",
    "s = \"12345\"\n",
    "print(s.isdecimal()) \n",
    "  \n",
    "# contains alphabets \n",
    "s = \"12geeks34\"\n",
    "print(s.isdecimal()) \n",
    "  \n",
    "# contains numbers and spaces \n",
    "s = \"12 34\"\n",
    "print(s.isdecimal()) "
   ]
  },
  {
   "cell_type": "code",
   "execution_count": 21,
   "metadata": {},
   "outputs": [
    {
     "name": "stdout",
     "output_type": "stream",
     "text": [
      "True\n",
      "False\n",
      "False\n"
     ]
    }
   ],
   "source": [
    "#----------isdigit------------\n",
    "s = \"12345\"\n",
    "print(s.isdigit()) \n",
    "  \n",
    "# contains alphabets \n",
    "s = \"12geeks34\"\n",
    "print(s.isdigit()) \n",
    "  \n",
    "# contains numbers and spaces \n",
    "s = \"12 34\"\n",
    "print(s.isdigit()) "
   ]
  },
  {
   "cell_type": "code",
   "execution_count": 22,
   "metadata": {},
   "outputs": [
    {
     "name": "stdout",
     "output_type": "stream",
     "text": [
      "True\n",
      "True\n",
      "False\n",
      "False\n"
     ]
    }
   ],
   "source": [
    "#-----------isidentifier--------\n",
    "a = \"MyFolder\"\n",
    "b = \"Demo002\"\n",
    "c = \"2bring\"\n",
    "d = \"my demo\"\n",
    "\n",
    "print(a.isidentifier())\n",
    "print(b.isidentifier())\n",
    "print(c.isidentifier())\n",
    "print(d.isidentifier())"
   ]
  },
  {
   "cell_type": "code",
   "execution_count": 23,
   "metadata": {},
   "outputs": [
    {
     "name": "stdout",
     "output_type": "stream",
     "text": [
      "False\n",
      "False\n"
     ]
    }
   ],
   "source": [
    "#-----------islower------------\n",
    "a = \"THIS is string example....wow!!!\"; \n",
    "print (a.islower())\n",
    "\n",
    "str = \"this is string example....wow!!!\";\n",
    "print (a.islower())"
   ]
  },
  {
   "cell_type": "code",
   "execution_count": 24,
   "metadata": {},
   "outputs": [
    {
     "name": "stdout",
     "output_type": "stream",
     "text": [
      "False\n",
      "False\n"
     ]
    }
   ],
   "source": [
    "#-----------isnumeric-----------\n",
    "b = u\"this2009\";  \n",
    "print (b.isnumeric())\n",
    "\n",
    "str = u\"23443434\";\n",
    "print (b.isnumeric())"
   ]
  },
  {
   "cell_type": "code",
   "execution_count": 25,
   "metadata": {},
   "outputs": [
    {
     "name": "stdout",
     "output_type": "stream",
     "text": [
      "True\n",
      "False\n",
      "False\n"
     ]
    }
   ],
   "source": [
    "#-----------isprintable---------\n",
    "str1 = (\"Hello, Javatpoint\")  \n",
    "str2 = (\"Learn Java here\\n\")  \n",
    "str3 = (\"\\t Python is a programming language\")  \n",
    "# Calling function  \n",
    "str4 = str1.isprintable()  \n",
    "str5 = str2.isprintable()  \n",
    "str6 = str3.isprintable()  \n",
    "# Displaying result  \n",
    "print(str4)  \n",
    "print(str5)  \n",
    "print(str6)  "
   ]
  },
  {
   "cell_type": "code",
   "execution_count": 26,
   "metadata": {},
   "outputs": [
    {
     "name": "stdout",
     "output_type": "stream",
     "text": [
      "True\n",
      "False\n",
      "False\n"
     ]
    }
   ],
   "source": [
    "#------------isspace------------\n",
    "s = '   \\t'\n",
    "print(s.isspace())\n",
    "\n",
    "s = ' a '\n",
    "print(s.isspace())\n",
    "\n",
    "s = ''\n",
    "print(s.isspace())"
   ]
  },
  {
   "cell_type": "code",
   "execution_count": 27,
   "metadata": {},
   "outputs": [
    {
     "name": "stdout",
     "output_type": "stream",
     "text": [
      "True\n",
      "False\n"
     ]
    }
   ],
   "source": [
    "#--------------istitle------------\n",
    "str = \"This Is String Example...Wow!!!\";\n",
    "print (str.istitle())\n",
    "\n",
    "str = \"This is string example....wow!!!\";\n",
    "print (str.istitle())"
   ]
  },
  {
   "cell_type": "code",
   "execution_count": 28,
   "metadata": {},
   "outputs": [
    {
     "name": "stdout",
     "output_type": "stream",
     "text": [
      "True\n",
      "False\n"
     ]
    }
   ],
   "source": [
    "#----------isupper----------\n",
    "string = 'ZAIMBARLAS'\n",
    "print(string.isupper()) \n",
    "  \n",
    "string = 'ZaimBarlas'\n",
    "print(string.isupper()) "
   ]
  },
  {
   "cell_type": "code",
   "execution_count": 30,
   "metadata": {},
   "outputs": [
    {
     "name": "stdout",
     "output_type": "stream",
     "text": [
      "1, 2, 3, 4\n",
      "1, 2, 3, 4\n",
      "1abc2abc3\n",
      "a123b123c\n"
     ]
    }
   ],
   "source": [
    "#----------join----------\n",
    "numList = ['1', '2', '3', '4']\n",
    "seperator = ', '\n",
    "print(seperator.join(numList))\n",
    "\n",
    "numTuple = ('1', '2', '3', '4')\n",
    "print(seperator.join(numTuple))\n",
    "\n",
    "s1 = 'abc'\n",
    "s2 = '123'\n",
    "print( s1.join(s2))\n",
    "print( s2.join(s1))"
   ]
  },
  {
   "cell_type": "code",
   "execution_count": 32,
   "metadata": {},
   "outputs": [
    {
     "name": "stdout",
     "output_type": "stream",
     "text": [
      "this is string example....wow!!!000000000000000000\n"
     ]
    }
   ],
   "source": [
    "#-----------ljust-----------\n",
    "str1 = \"this is string example....wow!!!\";\n",
    "print (str1.ljust(50, '0'))"
   ]
  },
  {
   "cell_type": "code",
   "execution_count": 33,
   "metadata": {},
   "outputs": [
    {
     "name": "stdout",
     "output_type": "stream",
     "text": [
      "zaimbarlas\n",
      "zaimbarlas\n"
     ]
    }
   ],
   "source": [
    "#-----------lower------------\n",
    "string = 'ZAIMBARLAS'\n",
    "print(string.lower()) \n",
    "  \n",
    "string = 'ZaimBarlas'\n",
    "print(string.lower()) "
   ]
  },
  {
   "cell_type": "code",
   "execution_count": 35,
   "metadata": {},
   "outputs": [
    {
     "name": "stdout",
     "output_type": "stream",
     "text": [
      "this is good \n",
      "   this is good \n",
      "his is good \n"
     ]
    }
   ],
   "source": [
    "#--------------lstrip--------------\n",
    "random_string = '   this is good '\n",
    "\n",
    "print(random_string.lstrip())\n",
    "\n",
    "print(random_string.lstrip('sti'))\n",
    "\n",
    "print(random_string.lstrip('s ti'))\n"
   ]
  },
  {
   "cell_type": "code",
   "execution_count": 36,
   "metadata": {},
   "outputs": [
    {
     "name": "stdout",
     "output_type": "stream",
     "text": [
      "{97: '123', 98: '456', 99: '789'}\n",
      "{97: '123', 98: '456', 99: '789'}\n"
     ]
    }
   ],
   "source": [
    "#--------------maketrans----------\n",
    "# example dictionary\n",
    "dict = {\"a\": \"123\", \"b\": \"456\", \"c\": \"789\"}\n",
    "string = \"abc\"\n",
    "print(string.maketrans(dict))\n",
    "\n",
    "# example dictionary\n",
    "dict = {97: \"123\", 98: \"456\", 99: \"789\"}\n",
    "string = \"abc\"\n",
    "print(string.maketrans(dict))"
   ]
  },
  {
   "cell_type": "code",
   "execution_count": 37,
   "metadata": {},
   "outputs": [
    {
     "name": "stdout",
     "output_type": "stream",
     "text": [
      "('Python ', 'is ', 'fun')\n",
      "('Python is fun', '', '')\n",
      "('Python ', 'is', \" fun, isn't it\")\n"
     ]
    }
   ],
   "source": [
    "#-------------partition---------\n",
    "string = \"Python is fun\"\n",
    "\n",
    "# 'is' separator is found\n",
    "print(string.partition('is '))\n",
    "\n",
    "# 'not' separator is not found\n",
    "print(string.partition('not '))\n",
    "\n",
    "string = \"Python is fun, isn't it\"\n",
    "\n",
    "# splits at first occurence of 'is'\n",
    "print(string.partition('is'))"
   ]
  },
  {
   "cell_type": "code",
   "execution_count": 38,
   "metadata": {},
   "outputs": [
    {
     "name": "stdout",
     "output_type": "stream",
     "text": [
      "Geeks for Geeks Geeks Geeks Geeks\n",
      "GeeksforGeeks for GeeksforGeeks GeeksforGeeks geeks geeks\n"
     ]
    }
   ],
   "source": [
    "#----------replace------------\n",
    "string = \"geeks for geeks geeks geeks geeks\" \n",
    "   \n",
    "# Prints the string by replacing geeks by Geeks  \n",
    "print(string.replace(\"geeks\", \"Geeks\"))  \n",
    "  \n",
    "# Prints the string by replacing only 3 occurrence of Geeks   \n",
    "print(string.replace(\"geeks\", \"GeeksforGeeks\", 3)) "
   ]
  },
  {
   "cell_type": "code",
   "execution_count": 39,
   "metadata": {},
   "outputs": [
    {
     "name": "stdout",
     "output_type": "stream",
     "text": [
      "16\n"
     ]
    }
   ],
   "source": [
    "#------------rfind---------------\n",
    "str1 = \"Learn Java from Javatpoint\"  \n",
    "# calling function  \n",
    "str2 = str1.rfind(\"Java\")  \n",
    "# displaying result  \n",
    "print(str2)  "
   ]
  },
  {
   "cell_type": "code",
   "execution_count": 41,
   "metadata": {},
   "outputs": [
    {
     "name": "stdout",
     "output_type": "stream",
     "text": [
      "5\n",
      "2\n"
     ]
    }
   ],
   "source": [
    "#---------rindex-----------------\n",
    "str1 = \"this is string example....wow!!!\";\n",
    "str2 = \"is\";\n",
    "\n",
    "print (str1.rindex(str2))\n",
    "print (str1.index(str2))"
   ]
  },
  {
   "cell_type": "code",
   "execution_count": 48,
   "metadata": {},
   "outputs": [
    {
     "name": "stdout",
     "output_type": "stream",
     "text": [
      "000000000000000000this is string example....wow!!!\n"
     ]
    }
   ],
   "source": [
    "#-------------rjust-------------\n",
    "str1 = \"this is string example....wow!!!\";\n",
    "print (str1.rjust(50, '0'))"
   ]
  },
  {
   "cell_type": "code",
   "execution_count": 49,
   "metadata": {},
   "outputs": [
    {
     "name": "stdout",
     "output_type": "stream",
     "text": [
      "('Geeks@for@Geeks@is@for', '@', 'geeks')\n",
      "('Ram is not eating but Mohan ', 'is', ' eating')\n"
     ]
    }
   ],
   "source": [
    "#-------------rpartition-----------------\n",
    "# String need to split \n",
    "string1 = \"Geeks@for@Geeks@is@for@geeks\"\n",
    "  \n",
    "string2 = \"Ram is not eating but Mohan is eating\"\n",
    "  \n",
    "# Here '@' is a separator \n",
    "print(string1.rpartition('@')) \n",
    "  \n",
    "# Here 'is' is seperator \n",
    "print(string2.rpartition('is')) \n"
   ]
  },
  {
   "cell_type": "code",
   "execution_count": 51,
   "metadata": {},
   "outputs": [
    {
     "name": "stdout",
     "output_type": "stream",
     "text": [
      "['geeks', 'for', 'geeks']\n",
      "['geeks, for, ', 'eeks']\n",
      "['geeks@for', 'geeks']\n"
     ]
    }
   ],
   "source": [
    "#--------------rsplit----------------\n",
    "\n",
    "word = 'geeks for geeks'\n",
    "print(word.rsplit()) \n",
    "  \n",
    "# Splits at 'g'. Note that we have \n",
    "# provided maximum limit as 1. So \n",
    "# from right, one splitting happens \n",
    "# and we get \"eeks\" and \"geeks, for, \" \n",
    "word = 'geeks, for, geeks'\n",
    "print(word.rsplit('g', 1)) \n",
    "  \n",
    "# Splitting at '@' with maximum splitting \n",
    "# as 1 \n",
    "word = 'geeks@for@geeks'\n",
    "print(word.rsplit('@', 1))"
   ]
  },
  {
   "cell_type": "code",
   "execution_count": 53,
   "metadata": {},
   "outputs": [
    {
     "name": "stdout",
     "output_type": "stream",
     "text": [
      " this is good\n",
      " this is good\n",
      " this is g\n"
     ]
    }
   ],
   "source": [
    "#---------------rstrip--------------\n",
    "random_string = ' this is good'\n",
    "\n",
    "# Leading whitepsace are removed\n",
    "print(random_string.rstrip())\n",
    "\n",
    "# Argument doesn't contain 'd'\n",
    "# No characters are removed.\n",
    "print(random_string.rstrip('si oo'))\n",
    "\n",
    "print(random_string.rstrip('sid oo'))"
   ]
  },
  {
   "cell_type": "code",
   "execution_count": 57,
   "metadata": {},
   "outputs": [
    {
     "name": "stdout",
     "output_type": "stream",
     "text": [
      "['geeks, for, geeks, pawan']\n",
      "['geeks', 'for', 'geeks', 'pawan']\n",
      "['geeks', 'for, geeks, pawan']\n"
     ]
    }
   ],
   "source": [
    "#----------------split-----------------\n",
    "a= 'I love pakistan and I live in Pakistan'\n",
    "word = 'geeks, for, geeks, pawan'\n",
    "# maxsplit: 0 \n",
    "print(word.split(', ', 0)) \n",
    "  \n",
    "# maxsplit: 4 \n",
    "print(word.split(', ', 4)) \n",
    "  \n",
    "# maxsplit: 1 \n",
    "print(word.split(', ', 1)) "
   ]
  },
  {
   "cell_type": "code",
   "execution_count": 58,
   "metadata": {},
   "outputs": [
    {
     "name": "stdout",
     "output_type": "stream",
     "text": [
      "Java is a programming language\n",
      "['Java is a programming language']\n",
      "['Java ', ' is a programming ', ' language']\n"
     ]
    }
   ],
   "source": [
    "#---------------splitlines-----------------\n",
    "# Variable declaration  \n",
    "str = \"Java is a programming language\"  \n",
    "# Calling function  \n",
    "str2 = str.splitlines() # returns a list having single element  \n",
    "print(str)  \n",
    "print(str2)  \n",
    "str = \"Java \\n is a programming \\r language\"  \n",
    "str2 = str.splitlines() # returns a list having splitted elements  \n",
    "print(str2)  "
   ]
  },
  {
   "cell_type": "code",
   "execution_count": 59,
   "metadata": {},
   "outputs": [
    {
     "name": "stdout",
     "output_type": "stream",
     "text": [
      "False\n",
      "True\n",
      "True\n"
     ]
    }
   ],
   "source": [
    "#-----------------startswith------------------\n",
    "text = \"Python is easy to learn.\"\n",
    "\n",
    "result = text.startswith('is easy')\n",
    "# returns False\n",
    "print(result)\n",
    "\n",
    "result = text.startswith('Python is ')\n",
    "# returns True\n",
    "print(result)\n",
    "\n",
    "result = text.startswith('Python is easy to learn.')\n",
    "# returns True\n",
    "print(result)"
   ]
  },
  {
   "cell_type": "code",
   "execution_count": 60,
   "metadata": {},
   "outputs": [
    {
     "name": "stdout",
     "output_type": "stream",
     "text": [
      "xoxo love xoxo\n",
      "lov\n",
      " xoxo love xoxo   \n",
      "droid is awesome\n"
     ]
    }
   ],
   "source": [
    "#-------------strip------------------\n",
    "string = ' xoxo love xoxo   '\n",
    "\n",
    "# Leading whitepsace are removed\n",
    "print(string.strip())\n",
    "\n",
    "print(string.strip(' xoxoe'))\n",
    "\n",
    "# Argument doesn't contain space\n",
    "# No characters are removed.\n",
    "print(string.strip('sti'))\n",
    "\n",
    "string = 'android is awesome'\n",
    "print(string.strip('an'))"
   ]
  },
  {
   "cell_type": "code",
   "execution_count": 61,
   "metadata": {},
   "outputs": [
    {
     "name": "stdout",
     "output_type": "stream",
     "text": [
      "GeeKSforGEEKS\n",
      "STRIVER\n"
     ]
    }
   ],
   "source": [
    "#------------------swapcase-------------\n",
    "# Python program to demonstrate the use of \n",
    "# swapcase() method   \n",
    "  \n",
    "string = \"gEEksFORgeeks\"\n",
    "  \n",
    "# prints after swappong all cases \n",
    "print(string.swapcase())    \n",
    "  \n",
    "string = \"striver\" \n",
    "print(string.swapcase())  "
   ]
  },
  {
   "cell_type": "code",
   "execution_count": 62,
   "metadata": {},
   "outputs": [
    {
     "name": "stdout",
     "output_type": "stream",
     "text": [
      "First Output after Title() method is =  Geeks For Geeks\n",
      "Converted String is =  Geeks For Geeks\n",
      "Original String is =  geeKs foR geEks\n",
      "Second Output after Title() method is =  Asipu Pawan Kumar\n",
      "Third Output after Title() method is =  Stutya Kumari Shaw\n",
      "Fourth Output after Title() method is =  6041\n"
     ]
    }
   ],
   "source": [
    "#----------------title---------------------\n",
    "str1 = 'geeKs foR geEks'\n",
    "str2 = str1.title() \n",
    "print ('First Output after Title() method is = ', str2 )\n",
    "  \n",
    "# observe the original string \n",
    "print ('Converted String is = ', str1.title()) \n",
    "print ('Original String is = ', str1) \n",
    "   \n",
    "# Performing title() function directly \n",
    "str3 = 'ASIPU pawan kuMAr'.title() \n",
    "print ('Second Output after Title() method is = ', str3 )\n",
    "   \n",
    "str4 = 'stutya kUMari sHAW'.title() \n",
    "print ('Third Output after Title() method is = ', str4) \n",
    "   \n",
    "str5 = '6041'.title() \n",
    "print ('Fourth Output after Title() method is = ', str5 )"
   ]
  },
  {
   "cell_type": "code",
   "execution_count": 63,
   "metadata": {},
   "outputs": [
    {
     "name": "stdout",
     "output_type": "stream",
     "text": [
      "Original string: abcdef\n",
      "Translated string: idef\n"
     ]
    }
   ],
   "source": [
    "#----------------translate------------------\n",
    "# first string\n",
    "firstString = \"abc\"\n",
    "secondString = \"ghi\"\n",
    "thirdString = \"ab\"\n",
    "\n",
    "string = \"abcdef\"\n",
    "print(\"Original string:\", string)\n",
    "\n",
    "translation = string.maketrans(firstString, secondString, thirdString)\n",
    "\n",
    "# translate string\n",
    "print(\"Translated string:\", string.translate(translation))"
   ]
  },
  {
   "cell_type": "code",
   "execution_count": 65,
   "metadata": {},
   "outputs": [
    {
     "name": "stdout",
     "output_type": "stream",
     "text": [
      "GEEKSFORGEEKS\n",
      "MY NAME IS ZAIM\n"
     ]
    }
   ],
   "source": [
    "#----------------upper------------------\n",
    "# checking for uppercase characters \n",
    "string = 'geeksforgeeks'\n",
    "print(string.upper()) \n",
    "  \n",
    "string = 'My name is zaim'\n",
    "print(string.upper()) "
   ]
  },
  {
   "cell_type": "code",
   "execution_count": 70,
   "metadata": {},
   "outputs": [
    {
     "name": "stdout",
     "output_type": "stream",
     "text": [
      "000000000000Zfill Example\n"
     ]
    }
   ],
   "source": [
    "#---------------zfill-----------------\n",
    "# Python zfill(width) method   \n",
    "# Declaring variables  \n",
    "text = \"Zfill Example\"  \n",
    "# Calling Function  \n",
    "str2 = text.zfill(25)  \n",
    "# Displaying result  \n",
    "print(str2)  "
   ]
  }
 ],
 "metadata": {
  "kernelspec": {
   "display_name": "Python 3",
   "language": "python",
   "name": "python3"
  },
  "language_info": {
   "codemirror_mode": {
    "name": "ipython",
    "version": 3
   },
   "file_extension": ".py",
   "mimetype": "text/x-python",
   "name": "python",
   "nbconvert_exporter": "python",
   "pygments_lexer": "ipython3",
   "version": "3.7.4"
  }
 },
 "nbformat": 4,
 "nbformat_minor": 2
}
